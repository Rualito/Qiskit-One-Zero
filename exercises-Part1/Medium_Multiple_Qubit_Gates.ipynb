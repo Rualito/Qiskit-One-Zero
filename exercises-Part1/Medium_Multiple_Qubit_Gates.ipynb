{
 "cells": [
  {
   "cell_type": "code",
   "execution_count": 1,
   "id": "9e89acff",
   "metadata": {},
   "outputs": [
    {
     "name": "stderr",
     "output_type": "stream",
     "text": [
      "configrc.store_credentials:WARNING:2022-04-27 13:24:56,932: Credentials already present. Set overwrite=True to overwrite.\n"
     ]
    }
   ],
   "source": [
    "import numpy as np\n",
    "# Importing standard Qiskit libraries\n",
    "from qiskit import QuantumCircuit,QuantumRegister, ClassicalRegister, transpile, Aer, IBMQ, assemble, execute\n",
    "from qiskit.tools.jupyter import *\n",
    "from qiskit.visualization import *\n",
    "from ibm_quantum_widgets import *\n",
    "from qiskit.extensions import Initialize\n",
    "from qiskit.providers.aer.noise import NoiseModel\n",
    "import qiskit.quantum_info as qi\n",
    "\n",
    "# Loading your IBM Quantum account(s)\n",
    "IBMQ.save_account('3066a0e464d5ddedf6d32204505804954ee3d7449a8319efb380c197d911544bc4ed0dd04900541864385ad01cc685ccf0b1cfc0ec80d23d06461349c75ad636')\n",
    "provider = IBMQ.load_account()"
   ]
  },
  {
   "cell_type": "markdown",
   "id": "ec210cb4",
   "metadata": {},
   "source": [
    "## Multi-Qubit Gates: Teleportation Protocol"
   ]
  },
  {
   "cell_type": "markdown",
   "id": "d0d426a5",
   "metadata": {},
   "source": [
    "In these exercises we will build a so called '<i> Bell Measurement </i>'. This means that we project a state onto the four Bell states:\n",
    "\n",
    "$$\n",
    "|\\psi^{00}\\rangle=\\frac{1}{2}(|00\\rangle + |11\\rangle)\n",
    "$$\n",
    "\n",
    "$$\n",
    "|\\psi^{01}\\rangle=\\frac{1}{2}(|00\\rangle - |11\\rangle)\n",
    "$$\n",
    "\n",
    "$$\n",
    "|\\psi^{10}\\rangle=\\frac{1}{2}(|10\\rangle + |01\\rangle)\n",
    "$$\n",
    "\n",
    "$$\n",
    "|\\psi^{11}\\rangle=\\frac{1}{2}(|10\\rangle - |01\\rangle)\n",
    "$$\n",
    "\n",
    "We start with the situation where we consdir the usual suspects Alice and Bob. Bob wants to send his quantum state $\\phi$ to Alice. The problem however is that Alice and Bob only share a classical channel (e.g. a phone) and a Bell state. (take $|\\psi^{00}\\rangle=\\frac{1}{2}\\big(|00\\rangle + |11\\rangle\\big)$  )\n",
    "\n",
    "In the coming exercise we will consider how Bob can send his state to alice with the use of multi-qubit gates."
   ]
  },
  {
   "cell_type": "markdown",
   "id": "29bd2329",
   "metadata": {},
   "source": [
    "For the coming exercise we consider $q_0$ to be Alice's qubit, which is entangled with  $q_1$  on Bob's side. The state we want to teleport is encoded on $q_2$ . "
   ]
  },
  {
   "cell_type": "code",
   "execution_count": 2,
   "id": "7236bb6f",
   "metadata": {},
   "outputs": [],
   "source": [
    "qr = QuantumRegister(3, name=\"q\")    # Protocol uses 3 qubits\n",
    "crz = ClassicalRegister(1, name=\"crz\") # and 2 classical bits\n",
    "crx = ClassicalRegister(1, name=\"crx\") # in 2 different register\n",
    "teleportation_circuit = QuantumCircuit(qr, crz, crx)"
   ]
  },
  {
   "cell_type": "markdown",
   "id": "f98d29b5",
   "metadata": {},
   "source": [
    "<b>1.) Produce the Bell state: $|\\psi^{00}\\rangle$ between qubit $q_0$ and $q_1$."
   ]
  },
  {
   "cell_type": "code",
   "execution_count": 3,
   "id": "53b8d970",
   "metadata": {},
   "outputs": [],
   "source": [
    "def psi_00(circuit, q1, q2):\n",
    "    circuit.h(q1)\n",
    "    circuit.cx(q1, q2)  "
   ]
  },
  {
   "cell_type": "markdown",
   "id": "d0790479",
   "metadata": {},
   "source": [
    "<b>2.) Read out $q_1$ and $q_2$ in the Bell basis.</b> (This means that we want to obtain $xz$ from $|\\psi^{xz}\\rangle$ ). Store the outcomes in the classical registers $z \\rightarrow$ `crz` and $x \\rightarrow$`crx`."
   ]
  },
  {
   "cell_type": "code",
   "execution_count": 4,
   "id": "7a065d7e",
   "metadata": {},
   "outputs": [],
   "source": [
    "def Bell_measurement(circuit, q1, q2, crx, crz):\n",
    "    circuit.cx(q2, q1)\n",
    "    circuit.h(q2)\n",
    "    circuit.barrier()\n",
    "    circuit.measure(q1,crx)\n",
    "    circuit.measure(q2,crz)"
   ]
  },
  {
   "cell_type": "markdown",
   "id": "af6b8afd",
   "metadata": {},
   "source": [
    "<b> 3.) Now Bob sends his found $xz$ to Alice. She, on her turn applies to following conditional gates on here qubit $q_0$: $X^xZ^z$ </b> hint: Make use of the `c_if` gate\n",
    "    "
   ]
  },
  {
   "cell_type": "code",
   "execution_count": 5,
   "id": "a275098f",
   "metadata": {},
   "outputs": [],
   "source": [
    "def conditional_gates(circuit, q0, crx, crz):\n",
    "    circuit.x(q0).c_if(crx, 1)\n",
    "    circuit.z(q0).c_if(crz, 1)"
   ]
  },
  {
   "cell_type": "markdown",
   "id": "dfd2e376",
   "metadata": {},
   "source": [
    "Now we bring the circuit together:"
   ]
  },
  {
   "cell_type": "code",
   "execution_count": 6,
   "id": "74f9d18b",
   "metadata": {},
   "outputs": [
    {
     "data": {
      "image/png": "[encoded data removed]",
      "text/plain": [
       "<Figure size 754.71x325.08 with 1 Axes>"
      ]
     },
     "execution_count": 6,
     "metadata": {},
     "output_type": "execute_result"
    }
   ],
   "source": [
    "qr = QuantumRegister(3, name=\"q\")    # Protocol uses 3 qubits\n",
    "crz, crx = ClassicalRegister(1, name=\"crz\"), ClassicalRegister(1, name=\"crx\") #Classical Registers\n",
    "teleportation_circuit = QuantumCircuit(qr, crz, crx)\n",
    "\n",
    "\n",
    "#STEP 1:  Create the Bell state between q0 and q1\n",
    "psi_00(teleportation_circuit, 0, 1 )\n",
    "\n",
    "#STEP 2: Bell Measurement\n",
    "teleportation_circuit.barrier()\n",
    "Bell_measurement(teleportation_circuit, 1, 2, crx, crz)\n",
    "\n",
    "#STEP 3: Conditional Gates\n",
    "teleportation_circuit.barrier()\n",
    "conditional_gates(teleportation_circuit,0, crx, crz)\n",
    "teleportation_circuit.draw('mpl')\n"
   ]
  },
  {
   "cell_type": "code",
   "execution_count": null,
   "id": "633da770",
   "metadata": {},
   "outputs": [],
   "source": []
  }
 ],
 "metadata": {
  "kernelspec": {
   "display_name": "Python 3 (ipykernel)",
   "language": "python",
   "name": "python3"
  },
  "language_info": {
   "codemirror_mode": {
    "name": "ipython",
    "version": 3
   },
   "file_extension": ".py",
   "mimetype": "text/x-python",
   "name": "python",
   "nbconvert_exporter": "python",
   "pygments_lexer": "ipython3",
   "version": "3.8.10"
  },
  "widgets": {
   "application/vnd.jupyter.widget-state+json": {
    "state": {},
    "version_major": 2,
    "version_minor": 0
   }
  }
 },
 "nbformat": 4,
 "nbformat_minor": 5
}

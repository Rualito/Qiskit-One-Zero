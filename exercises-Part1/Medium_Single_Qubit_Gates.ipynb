{
 "cells": [
  {
   "cell_type": "code",
   "execution_count": 1,
   "id": "c3dc7d15",
   "metadata": {},
   "outputs": [
    {
     "name": "stderr",
     "output_type": "stream",
     "text": [
      "configrc.store_credentials:WARNING:2022-04-26 19:44:38,850: Credentials already present. Set overwrite=True to overwrite.\n"
     ]
    }
   ],
   "source": [
    "import numpy as np\n",
    "# Importing standard Qiskit libraries\n",
    "from qiskit.quantum_info import Statevector\n",
    "from qiskit import QuantumCircuit, transpile, Aer, IBMQ, assemble\n",
    "from qiskit.tools.jupyter import *\n",
    "from qiskit.visualization import *\n",
    "from ibm_quantum_widgets import *\n",
    "\n",
    "\n",
    "#Check file\n",
    "import sys\n",
    "#sys.path.insert(0, '/home/jovyan/exercises_levels/Gates_and_Circuits/Single Qubit Gates/Level_2_Single_Qubit_Gates')\n",
    "#from Check_level_2_gates import *\n",
    "import warnings\n",
    "warnings.filterwarnings('ignore')\n",
    "\n",
    "# Loading your IBM Quantum account(s)\n",
    "IBMQ.save_account('3066a0e464d5ddedf6d32204505804954ee3d7449a8319efb380c197d911544bc4ed0dd04900541864385ad01cc685ccf0b1cfc0ec80d23d06461349c75ad636')\n",
    "provider = IBMQ.load_account()"
   ]
  },
  {
   "cell_type": "markdown",
   "id": "8937f068",
   "metadata": {},
   "source": [
    "## Gates as rotations"
   ]
  },
  {
   "cell_type": "markdown",
   "id": "3c8475c1",
   "metadata": {},
   "source": [
    "By now we have seen the set of gates and their impact on our state on the bloch sphere. The next steps are to actually quantized the impact of the gates and describe them as actually rotations, given by the angles $\\theta, \\phi$. This leads us at the end to a more general description of a single qubit gate: `u3`. <img src='bloch_sphere.png' width=\"200\">\n",
    "\n",
    "It can be shown that the most general form of a single qubit gate can be written as:\n",
    "$$\n",
    "U (\\theta, \\phi, \\lambda)= \\begin{pmatrix}\n",
    " \\cos(\\theta/2) & -e^{j\\lambda} \\sin(\\theta/2)\\\\\n",
    " e^{j\\phi}\\sin(\\theta/2) & e^{j(\\lambda+ \\phi)} \\cos(\\theta/2)\n",
    "\\end{pmatrix}\n",
    "$$\n",
    "In the next couple of exercises we will go over the different choices for the parameters $\\lambda, \\phi$ and $\\theta$ to compose arbitrary single qubit gates.\n"
   ]
  },
  {
   "cell_type": "markdown",
   "id": "c23c57a1",
   "metadata": {},
   "source": [
    "<b> 1.) Singles gated as rotations </b>"
   ]
  },
  {
   "cell_type": "markdown",
   "id": "1fdbb4d4",
   "metadata": {},
   "source": [
    "We start by considering our favourtie Pauli-gates as rotations around the bloch sphere:\n",
    "\n",
    "$$\n",
    "X=\\begin{pmatrix}\n",
    " 0 & 1\\\\\n",
    " 1 & 0\n",
    "\\end{pmatrix}\n",
    "$$"
   ]
  },
  {
   "cell_type": "code",
   "execution_count": 2,
   "id": "2d629fe0",
   "metadata": {},
   "outputs": [
    {
     "data": {
      "image/png": "[encoded data removed]",
      "text/plain": [
       "<Figure size 133.526x84.28 with 1 Axes>"
      ]
     },
     "execution_count": 2,
     "metadata": {},
     "output_type": "execute_result"
    }
   ],
   "source": [
    "## X-gate\n",
    "\n",
    "\n",
    "# Keep theta<=np.pi \n",
    "qcX = QuantumCircuit(1)\n",
    "qcX.u(np.pi, 0, np.pi, 0)\n",
    "qcX.draw('mpl')\n",
    "#\n",
    "#\n",
    "#\n",
    "#\n",
    "#\n",
    "#ex1_validation([theta, phi, lam])"
   ]
  },
  {
   "cell_type": "markdown",
   "id": "24ce6881",
   "metadata": {},
   "source": [
    "$$\n",
    "Z=\\begin{pmatrix}\n",
    " 1 & 0\\\\\n",
    "0 & -1\n",
    "\\end{pmatrix}\n",
    "$$"
   ]
  },
  {
   "cell_type": "code",
   "execution_count": 3,
   "id": "fdb7f2c6",
   "metadata": {},
   "outputs": [
    {
     "data": {
      "image/png": "[encoded data removed]",
      "text/plain": [
       "<Figure size 133.526x84.28 with 1 Axes>"
      ]
     },
     "execution_count": 3,
     "metadata": {},
     "output_type": "execute_result"
    }
   ],
   "source": [
    "## Z-gate\n",
    "\n",
    "# FILL IN YOUR CODE HERE\n",
    "qcZ = QuantumCircuit(1)\n",
    "qcZ.u(0, 0, np.pi, 0)\n",
    "qcZ.draw('mpl')\n",
    "#\n",
    "#\n",
    "#\n",
    "#\n",
    "#\n",
    "#ex2_validation([theta, phi,lam])"
   ]
  },
  {
   "cell_type": "markdown",
   "id": "a46dce7e",
   "metadata": {},
   "source": [
    "$$\n",
    "Y=\\begin{pmatrix}\n",
    " 0 & -i\\\\\n",
    "i & 0\n",
    "\\end{pmatrix}\n",
    "$$"
   ]
  },
  {
   "cell_type": "code",
   "execution_count": 4,
   "id": "59e0b3d2",
   "metadata": {},
   "outputs": [
    {
     "data": {
      "image/png": "[encoded data removed]",
      "text/plain": [
       "<Figure size 133.526x84.28 with 1 Axes>"
      ]
     },
     "execution_count": 4,
     "metadata": {},
     "output_type": "execute_result"
    }
   ],
   "source": [
    "## Y-gate\n",
    "\n",
    "# FILL IN YOUR CODE HERE\n",
    "qcY = QuantumCircuit(1)\n",
    "qcY.u(np.pi, np.pi/2, np.pi/2, 0)\n",
    "qcY.draw('mpl')\n",
    "#\n",
    "#\n",
    "#\n",
    "#\n",
    "\n",
    "#ex3_validation([theta, phi,lam])"
   ]
  },
  {
   "cell_type": "markdown",
   "id": "b6eda4c9",
   "metadata": {},
   "source": [
    "$$\n",
    "H= \\frac {1}{\\sqrt{2}}\\begin{pmatrix}\n",
    " 1 & 1\\\\\n",
    "1 & -1\n",
    "\\end{pmatrix}\n",
    "$$"
   ]
  },
  {
   "cell_type": "code",
   "execution_count": 5,
   "id": "68c646a6",
   "metadata": {},
   "outputs": [
    {
     "data": {
      "image/png": "[encoded data removed]",
      "text/plain": [
       "<Figure size 133.526x84.28 with 1 Axes>"
      ]
     },
     "execution_count": 5,
     "metadata": {},
     "output_type": "execute_result"
    }
   ],
   "source": [
    "## Hadamard \n",
    "\n",
    "# FILL IN YOUR CODE HERE\n",
    "qcH = QuantumCircuit(1)\n",
    "qcH.u(np.pi/2, 0, np.pi, 0)\n",
    "qcH.draw('mpl')\n",
    "#\n",
    "#\n",
    "#\n",
    "#\n",
    "#\n",
    "#ex4_validation([theta, phi, lam])"
   ]
  },
  {
   "cell_type": "markdown",
   "id": "fbc6a8ea",
   "metadata": {},
   "source": [
    "<b> 2.) Multiple gates as rotations "
   ]
  },
  {
   "cell_type": "markdown",
   "id": "375cdbc0",
   "metadata": {},
   "source": [
    "We now saw how we can write the $X,Y,Z, H$ gates as rotations about the bloch sphere, this holds for all other single qubit gates as well. We can now ofcourse concatenate the rotations and combine a whole set of single qubit gates into a single rotations. \n",
    "\n",
    "(hint: take $\\lambda$=0)"
   ]
  },
  {
   "cell_type": "code",
   "execution_count": 6,
   "id": "948d1a42",
   "metadata": {},
   "outputs": [
    {
     "data": {
      "text/plain": [
       "<qiskit.circuit.instructionset.InstructionSet at 0x7fb03b4eed80>"
      ]
     },
     "execution_count": 6,
     "metadata": {},
     "output_type": "execute_result"
    }
   ],
   "source": [
    "## Which rotation corresponds to the gate set H-Y-S-T ?\n",
    "\n",
    "#Circuit:\n",
    "qc=QuantumCircuit(1)\n",
    "qc.h(0)\n",
    "qc.y(0)\n",
    "qc.s(0)\n",
    "qc.t(0)\n",
    "\n",
    "#qc.measure_all()\n",
    "#qc.draw('mpl')\n",
    "\n",
    "##FILL IN YOUR ANSWER HERE\n",
    "\n",
    "\n",
    "#Check the result with the u3 rotation gate (arbitrary single qubit rotations)\n",
    "qc2 = QuantumCircuit(1)\n",
    "qc2.u(np.pi/2, 0, np.pi, 0)\n",
    "qc2.u(np.pi, np.pi/2, np.pi/2, 0)\n",
    "qc2.u(0, 0, np.pi/2, 0)\n",
    "qc2.u(0, 0, np.pi/4, 0)\n",
    "\n",
    "#qc2.measure_all()\n",
    "#qc2.draw('mpl')\n",
    "\n",
    "#ex5_validation(qc2)"
   ]
  },
  {
   "cell_type": "code",
   "execution_count": null,
   "id": "60a54d20",
   "metadata": {},
   "outputs": [],
   "source": []
  }
 ],
 "metadata": {
  "kernelspec": {
   "display_name": "Python 3 (ipykernel)",
   "language": "python",
   "name": "python3"
  },
  "language_info": {
   "codemirror_mode": {
    "name": "ipython",
    "version": 3
   },
   "file_extension": ".py",
   "mimetype": "text/x-python",
   "name": "python",
   "nbconvert_exporter": "python",
   "pygments_lexer": "ipython3",
   "version": "3.8.10"
  },
  "widgets": {
   "application/vnd.jupyter.widget-state+json": {
    "state": {
     "15dfb019a89a48aa82db39ef44817c0c": {
      "model_module": "@jupyter-widgets/controls",
      "model_module_version": "1.5.0",
      "model_name": "DescriptionStyleModel",
      "state": {
       "description_width": ""
      }
     },
     "1716dec4fbf246f29cb384a858423d01": {
      "model_module": "@jupyter-widgets/controls",
      "model_module_version": "1.5.0",
      "model_name": "DescriptionStyleModel",
      "state": {
       "description_width": ""
      }
     },
     "20770917d9c94de6970f5f676faa0921": {
      "model_module": "@jupyter-widgets/controls",
      "model_module_version": "1.5.0",
      "model_name": "ButtonModel",
      "state": {
       "button_style": "primary",
       "description": "Clear",
       "layout": "IPY_MODEL_97e4cb06573647c3bdf44e5964655305",
       "style": "IPY_MODEL_b266013252fa423e92c5dd4945a464a9"
      }
     },
     "2927e0a5c20241d3aec4bf805106802d": {
      "model_module": "@jupyter-widgets/base",
      "model_module_version": "1.2.0",
      "model_name": "LayoutModel",
      "state": {
       "width": "145px"
      }
     },
     "2eefd89680ac4a56b369debd26b0fbf3": {
      "model_module": "@jupyter-widgets/base",
      "model_module_version": "1.2.0",
      "model_name": "LayoutModel",
      "state": {}
     },
     "4e6ba5dee15f4330b099b64247e766a9": {
      "model_module": "@jupyter-widgets/base",
      "model_module_version": "1.2.0",
      "model_name": "LayoutModel",
      "state": {
       "grid_template_areas": "\n                                       \". . . . right \"\n                                        ",
       "grid_template_columns": "20% 20% 20% 20% 20%",
       "width": "100%"
      }
     },
     "4ef509e464bc4a0aa4ba6608148a7917": {
      "model_module": "@jupyter-widgets/base",
      "model_module_version": "1.2.0",
      "model_name": "LayoutModel",
      "state": {
       "width": "95px"
      }
     },
     "536a097cd9934287a01b76704b36a2bb": {
      "model_module": "@jupyter-widgets/controls",
      "model_module_version": "1.5.0",
      "model_name": "DescriptionStyleModel",
      "state": {
       "description_width": ""
      }
     },
     "6396e6d647bc4211bd645ccd43b5092d": {
      "model_module": "@jupyter-widgets/controls",
      "model_module_version": "1.5.0",
      "model_name": "HTMLModel",
      "state": {
       "layout": "IPY_MODEL_4ef509e464bc4a0aa4ba6608148a7917",
       "style": "IPY_MODEL_15dfb019a89a48aa82db39ef44817c0c",
       "value": "<h5>Status</h5>"
      }
     },
     "6c662bf4d6b847f381bbe75eb300a6a7": {
      "model_module": "@jupyter-widgets/controls",
      "model_module_version": "1.5.0",
      "model_name": "HBoxModel",
      "state": {
       "children": [
        "IPY_MODEL_820fda0b54ab4b2f89df7e662aa925e9",
        "IPY_MODEL_ba9b404c49fd4ce0aefb49d1cb2717a9",
        "IPY_MODEL_6396e6d647bc4211bd645ccd43b5092d",
        "IPY_MODEL_e4bc7b1a1f8a4050a3f7799a01df5336",
        "IPY_MODEL_7b3248f7f7fb4966b5665086cc15c8b4"
       ],
       "layout": "IPY_MODEL_fffc611bfff14612a27ae75de7e85845"
      }
     },
     "7b3248f7f7fb4966b5665086cc15c8b4": {
      "model_module": "@jupyter-widgets/controls",
      "model_module_version": "1.5.0",
      "model_name": "HTMLModel",
      "state": {
       "layout": "IPY_MODEL_2eefd89680ac4a56b369debd26b0fbf3",
       "style": "IPY_MODEL_536a097cd9934287a01b76704b36a2bb",
       "value": "<h5>Message</h5>"
      }
     },
     "820fda0b54ab4b2f89df7e662aa925e9": {
      "model_module": "@jupyter-widgets/controls",
      "model_module_version": "1.5.0",
      "model_name": "HTMLModel",
      "state": {
       "layout": "IPY_MODEL_b94e310233844a538d302c0f62e07c23",
       "style": "IPY_MODEL_fae5b837a5cc4efb878abd5d74424e1f",
       "value": "<h5>Job ID</h5>"
      }
     },
     "8388d11779d342eca5c35045ef6c5b22": {
      "model_module": "@jupyter-widgets/base",
      "model_module_version": "1.2.0",
      "model_name": "LayoutModel",
      "state": {
       "margin": "0px 0px 10px 0px"
      }
     },
     "97e4cb06573647c3bdf44e5964655305": {
      "model_module": "@jupyter-widgets/base",
      "model_module_version": "1.2.0",
      "model_name": "LayoutModel",
      "state": {
       "grid_area": "right",
       "padding": "0px 0px 0px 0px",
       "width": "70px"
      }
     },
     "b266013252fa423e92c5dd4945a464a9": {
      "model_module": "@jupyter-widgets/controls",
      "model_module_version": "1.5.0",
      "model_name": "ButtonStyleModel",
      "state": {}
     },
     "b94e310233844a538d302c0f62e07c23": {
      "model_module": "@jupyter-widgets/base",
      "model_module_version": "1.2.0",
      "model_name": "LayoutModel",
      "state": {
       "width": "190px"
      }
     },
     "ba9b404c49fd4ce0aefb49d1cb2717a9": {
      "model_module": "@jupyter-widgets/controls",
      "model_module_version": "1.5.0",
      "model_name": "HTMLModel",
      "state": {
       "layout": "IPY_MODEL_2927e0a5c20241d3aec4bf805106802d",
       "style": "IPY_MODEL_ce3b98d9e6a241f886bb4edf24e71bbc",
       "value": "<h5>Backend</h5>"
      }
     },
     "bf54b8f5cba844ca9e0387229ff4e683": {
      "model_module": "@jupyter-widgets/controls",
      "model_module_version": "1.5.0",
      "model_name": "GridBoxModel",
      "state": {
       "children": [
        "IPY_MODEL_20770917d9c94de6970f5f676faa0921"
       ],
       "layout": "IPY_MODEL_4e6ba5dee15f4330b099b64247e766a9"
      }
     },
     "cc3dd726597a4e5790aa49df289dcdc9": {
      "model_module": "@jupyter-widgets/base",
      "model_module_version": "1.2.0",
      "model_name": "LayoutModel",
      "state": {
       "width": "70px"
      }
     },
     "ce3b98d9e6a241f886bb4edf24e71bbc": {
      "model_module": "@jupyter-widgets/controls",
      "model_module_version": "1.5.0",
      "model_name": "DescriptionStyleModel",
      "state": {
       "description_width": ""
      }
     },
     "d9f8d5fbab0f41358138e185470208b1": {
      "model_module": "@jupyter-widgets/controls",
      "model_module_version": "1.5.0",
      "model_name": "HTMLModel",
      "state": {
       "layout": "IPY_MODEL_8388d11779d342eca5c35045ef6c5b22",
       "style": "IPY_MODEL_f83aab37f5284f57b8d4070517dc1597",
       "value": "<p style='font-family: IBM Plex Sans, Arial, Helvetica, sans-serif; font-size: 20px; font-weight: medium;'>Circuit Properties</p>"
      }
     },
     "e4bc7b1a1f8a4050a3f7799a01df5336": {
      "model_module": "@jupyter-widgets/controls",
      "model_module_version": "1.5.0",
      "model_name": "HTMLModel",
      "state": {
       "layout": "IPY_MODEL_cc3dd726597a4e5790aa49df289dcdc9",
       "style": "IPY_MODEL_1716dec4fbf246f29cb384a858423d01",
       "value": "<h5>Queue</h5>"
      }
     },
     "f83aab37f5284f57b8d4070517dc1597": {
      "model_module": "@jupyter-widgets/controls",
      "model_module_version": "1.5.0",
      "model_name": "DescriptionStyleModel",
      "state": {
       "description_width": ""
      }
     },
     "fae5b837a5cc4efb878abd5d74424e1f": {
      "model_module": "@jupyter-widgets/controls",
      "model_module_version": "1.5.0",
      "model_name": "DescriptionStyleModel",
      "state": {
       "description_width": ""
      }
     },
     "fffc611bfff14612a27ae75de7e85845": {
      "model_module": "@jupyter-widgets/base",
      "model_module_version": "1.2.0",
      "model_name": "LayoutModel",
      "state": {
       "margin": "0px 0px 0px 37px",
       "width": "600px"
      }
     }
    },
    "version_major": 2,
    "version_minor": 0
   }
  }
 },
 "nbformat": 4,
 "nbformat_minor": 5
}
